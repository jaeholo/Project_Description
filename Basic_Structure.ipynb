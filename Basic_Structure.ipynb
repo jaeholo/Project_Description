{
  "nbformat": 4,
  "nbformat_minor": 0,
  "metadata": {
    "colab": {
      "name": "Basic_Structure.ipynb",
      "provenance": [],
      "collapsed_sections": [],
      "authorship_tag": "ABX9TyNUczcX0KaHLkRO6bAYP8J+",
      "include_colab_link": true
    },
    "kernelspec": {
      "name": "python3",
      "display_name": "Python 3"
    }
  },
  "cells": [
    {
      "cell_type": "markdown",
      "metadata": {
        "id": "view-in-github",
        "colab_type": "text"
      },
      "source": [
        "<a href=\"https://colab.research.google.com/github/jaeholo/Project_Description/blob/main/Basic_Structure.ipynb\" target=\"_parent\"><img src=\"https://colab.research.google.com/assets/colab-badge.svg\" alt=\"Open In Colab\"/></a>"
      ]
    },
    {
      "cell_type": "code",
      "metadata": {
        "id": "8xbuwI8HrXcY"
      },
      "source": [
        "#string in python"
      ],
      "execution_count": 1,
      "outputs": []
    },
    {
      "cell_type": "code",
      "metadata": {
        "colab": {
          "base_uri": "https://localhost:8080/"
        },
        "id": "9_9fJrTLrfzg",
        "outputId": "3fd93916-060b-48e2-b774-46ae6a18eec0"
      },
      "source": [
        "s1 = str()\r\n",
        "len(s1)\r\n",
        "\r\n",
        "s2 = 'string'\r\n",
        "len(s2)\r\n",
        "\r\n",
        "s3 = \"list\"\r\n",
        "\r\n",
        "s4 = s2 + s3\r\n",
        "print(s4)\r\n",
        "\r\n",
        "s2_list = list(s2)\r\n",
        "type(s2_list)\r\n",
        "type(s2[0])"
      ],
      "execution_count": 13,
      "outputs": [
        {
          "output_type": "stream",
          "text": [
            "stringlist\n"
          ],
          "name": "stdout"
        },
        {
          "output_type": "execute_result",
          "data": {
            "text/plain": [
              "str"
            ]
          },
          "metadata": {
            "tags": []
          },
          "execution_count": 13
        }
      ]
    },
    {
      "cell_type": "code",
      "metadata": {
        "colab": {
          "base_uri": "https://localhost:8080/"
        },
        "id": "-9mcB8gPsd4Y",
        "outputId": "3b7cd52e-c7ea-4bea-e9bd-725c5d360daf"
      },
      "source": [
        "s2_list\r\n",
        "type(s2_list[0])"
      ],
      "execution_count": 12,
      "outputs": [
        {
          "output_type": "execute_result",
          "data": {
            "text/plain": [
              "str"
            ]
          },
          "metadata": {
            "tags": []
          },
          "execution_count": 12
        }
      ]
    },
    {
      "cell_type": "code",
      "metadata": {
        "colab": {
          "base_uri": "https://localhost:8080/"
        },
        "id": "ZX0unbgCs1PY",
        "outputId": "0a7ca162-2224-465b-c3a8-3a406d0b654b"
      },
      "source": [
        "s = 'gg'\r\n",
        "s.index('g')\r\n"
      ],
      "execution_count": 17,
      "outputs": [
        {
          "output_type": "execute_result",
          "data": {
            "text/plain": [
              "0"
            ]
          },
          "metadata": {
            "tags": []
          },
          "execution_count": 17
        }
      ]
    },
    {
      "cell_type": "code",
      "metadata": {
        "colab": {
          "base_uri": "https://localhost:8080/"
        },
        "id": "88c-I5oBtFFS",
        "outputId": "9c1b5e7a-4476-438b-f387-0da4b0b8ec44"
      },
      "source": [
        "s = 'gg'\r\n",
        "s.find('a')"
      ],
      "execution_count": 19,
      "outputs": [
        {
          "output_type": "execute_result",
          "data": {
            "text/plain": [
              "-1"
            ]
          },
          "metadata": {
            "tags": []
          },
          "execution_count": 19
        }
      ]
    },
    {
      "cell_type": "code",
      "metadata": {
        "id": "6yKZbONztrEx"
      },
      "source": [
        "# Linked List\r\n",
        "\r\n",
        "class ListNode:\r\n",
        "  def __init__(self, val):\r\n",
        "    self.val = val\r\n",
        "    self.next = None\r\n",
        "  \r\n",
        "  def reverse(self, head):\r\n",
        "    prev = None\r\n",
        "    while head:\r\n",
        "      temp = head.next\r\n",
        "      head.next = prev\r\n",
        "      prev = head\r\n",
        "      head = temp\r\n",
        "    return prev\r\n",
        "  \r\n",
        "  # 快慢指针，可以用来查找链表中间元素（快的是慢的两倍速度，这样快的到达终点的时候，慢指针指向中间元素），或者查找有无环（如果有环，终会遇见）\r\n",
        "  def has_circle(self, head):\r\n",
        "    slow = head\r\n",
        "    fast = head\r\n",
        "    while (slow and fast):\r\n",
        "      fast = fast.next\r\n",
        "      slow = slow.next\r\n",
        "      if fast:\r\n",
        "        fast = fast.next\r\n",
        "      if fast == slow:\r\n",
        "        break\r\n",
        "    if fast and slow and (fast == slow):\r\n",
        "      return True\r\n",
        "    else:\r\n",
        "      return False\r\n",
        "\r\n",
        "node_1 = ListNode(\"A\")\r\n",
        "node_2 = ListNode(\"B\")\r\n",
        "node_1.next = node_2\r\n",
        "\r\n"
      ],
      "execution_count": 26,
      "outputs": []
    }
  ]
}